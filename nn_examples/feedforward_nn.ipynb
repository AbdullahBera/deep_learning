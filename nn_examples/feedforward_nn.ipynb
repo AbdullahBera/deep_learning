{
 "cells": [
  {
   "cell_type": "code",
   "execution_count": 1,
   "metadata": {},
   "outputs": [],
   "source": [
    "import numpy as np "
   ]
  },
  {
   "cell_type": "code",
   "execution_count": null,
   "metadata": {},
   "outputs": [],
   "source": [
    "class FeedforwardNetwork():\n",
    "    def __init(self, input_size, hidden_size, output_size):\n",
    "        self.input_size = input_size\n",
    "        self.hidden_size = hidden_size\n",
    "        self.output_size = output_size\n",
    "\n",
    "        self.weights1 = np.random.randn(self.input_size, self.hidden_size)\n",
    "        self.weights2 = np.random.randn(self.hidden_size, self.output_size)\n",
    "\n",
    "    def forward(self, X):\n",
    "        self.hidden_layer_output = np.maximum(0, np.dot(X, self.weights1))\n",
    "        self.output_layer_output = np.dot(self.hidden_layer_output, self.weights2)\n",
    "        self.output_layer_activation = self.sigmoid(self.output_layer_output)\n",
    "        return self.output_layer_output\n",
    "    \n",
    "    def sigmoid(self, x):\n",
    "        return 1 / (1 + np.exp(-x))\n",
    "    \n",
    "    def sigmoid_derivative(self, x):\n",
    "        return x * (1- x)\n",
    "    \n",
    "    def fit(self, X, y, learning_rate, epochs):\n",
    "        for epoch in range(epochs):\n",
    "\n",
    "            #Forward Propogation\n",
    "            output = self.forward(X)\n",
    "\n",
    "            #Backward Propogation \n",
    "            error = y - output \n",
    "            output_delta = error * self.sigmoid_derivative(output)\n",
    "            hidden_delta = np.dot(output_delta, self.weights2.T) * (self.hidden_layer_output > 0)\n",
    "\n",
    "            # Update Weights \n",
    "            self.weights1 += learning_rate * np.dot(self.hidden_layer_output.T, output_delta)\n",
    "            self.weights2 += learning_rate * np.dot(X.T, hidden_delta)\n",
    "\n",
    "            if epoch % 100 == 0: \n",
    "                mse = np.mean(np.square(error))\n",
    "                print(f'Epoch {epoch}: Mean Squared Error = {mse:.4f}')\n",
    "\n",
    "    \n",
    "\n",
    "\n",
    "\n"
   ]
  },
  {
   "cell_type": "code",
   "execution_count": null,
   "metadata": {},
   "outputs": [],
   "source": []
  }
 ],
 "metadata": {
  "kernelspec": {
   "display_name": "base",
   "language": "python",
   "name": "python3"
  },
  "language_info": {
   "codemirror_mode": {
    "name": "ipython",
    "version": 3
   },
   "file_extension": ".py",
   "mimetype": "text/x-python",
   "name": "python",
   "nbconvert_exporter": "python",
   "pygments_lexer": "ipython3",
   "version": "3.12.2"
  }
 },
 "nbformat": 4,
 "nbformat_minor": 2
}
